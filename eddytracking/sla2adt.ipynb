{
 "cells": [
  {
   "cell_type": "code",
   "execution_count": 27,
   "id": "c7135b28-55ee-4cf3-95a6-46f4b2f45812",
   "metadata": {},
   "outputs": [],
   "source": [
    "#This file takes the SLA observations from both AVISO and Scott's interpolations and converts it to ADT; this is step two in the preprocessing for the eddy observations\n",
    "import xarray as xr"
   ]
  },
  {
   "cell_type": "code",
   "execution_count": 28,
   "id": "2b49ea4d-6b54-41b3-a644-3008e85353b0",
   "metadata": {},
   "outputs": [],
   "source": [
    "#FILL IN INFORMATION HERE\n",
    "from datetime import datetime\n",
    "from datetime import timedelta, date\n",
    "\n",
    "filepath=\"rawdata/\" #path to netcdf file with SSH\n",
    "\n",
    "tmax=30 #total number of days\n",
    "savepath=\"eddies/\" #path to save the eddies\n",
    "filenamepath=\"filenames.npy\"\n",
    "slice_=False\n",
    "longmin=360-62 #minimum longitude\n",
    "longmax=360-50 #maximum longitude\n",
    "latmin=25 #minimum latitude\n",
    "latmax=52 #maximum latitude\n",
    "def findfilename(path,t):\n",
    "    return path+str(t)+\".nc\"\n",
    "startdate=datetime(2021,11,15)\n",
    "filepath1=\"scottcopy/rawdata/\"  #This is the filepath to the AVISO data\n",
    "filepath2=\"/home/mavida/dat1/miniconda3/eddytracking/testsonscottsdata/rawdata/\" #This is the filepath to Scott's interpolations\n",
    "writepath1=\"scottcopy/rawdata2/\" #This is where the new AVISO data should go\n",
    "writepath2=\"testsonscottsdata/rawdata2/\" #This is where Scott's new data shou go\n",
    "mdtfilepath=\"scottcopy/mdt.nc\" #put the path to where the MDT is stored\n",
    "mdt=xr.open_dataset(mdtfilepath)"
   ]
  },
  {
   "cell_type": "code",
   "execution_count": 41,
   "id": "abf4e987-94fb-4df0-8774-d04679b337f3",
   "metadata": {},
   "outputs": [],
   "source": [
    "#For each day in the specified range, it adds ADT to each file\n",
    "for t in range(tmax):\n",
    "    filename1=findfilename(filepath1,t)\n",
    "    filename2=findfilename(filepath2,t)\n",
    "    writename1=findfilename(writepath1,t)\n",
    "    writename2=findfilename(writepath2,t)\n",
    "    for filename,add,writename in [[filename1,0,writename1],[filename2,360,writename2]]:\n",
    "        dataset=xr.open_dataset(filename)\n",
    "        interpolatedmdt=mdt.isel(time=0).interp(longitude=dataset[\"longitude\"]-add,latitude=dataset[\"latitude\"])[\"mdt\"]\n",
    "        dataset=dataset.assign(adt=dataset[\"sla\"]+interpolatedmdt)\n",
    "        dataset[\"adt\"].attrs[\"units\"] = \"m\"\n",
    "        dataset[\"adt\"]\n",
    "        dataset.to_netcdf(path=writename, mode='w')"
   ]
  }
 ],
 "metadata": {
  "kernelspec": {
   "display_name": "Python 3",
   "language": "python",
   "name": "python3"
  },
  "language_info": {
   "codemirror_mode": {
    "name": "ipython",
    "version": 3
   },
   "file_extension": ".py",
   "mimetype": "text/x-python",
   "name": "python",
   "nbconvert_exporter": "python",
   "pygments_lexer": "ipython3",
   "version": "3.7.6"
  },
  "widgets": {
   "application/vnd.jupyter.widget-state+json": {
    "state": {},
    "version_major": 2,
    "version_minor": 0
   }
  }
 },
 "nbformat": 4,
 "nbformat_minor": 5
}
