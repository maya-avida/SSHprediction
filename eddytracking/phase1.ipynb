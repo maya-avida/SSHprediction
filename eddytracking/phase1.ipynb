{
 "cells": [
  {
   "cell_type": "code",
   "execution_count": null,
   "id": "08bb3b55-28c4-43a1-aa23-3dffdcb841d6",
   "metadata": {},
   "outputs": [],
   "source": [
    "#This file actually finds the eddies from the SLA files"
   ]
  },
  {
   "cell_type": "code",
   "execution_count": 1,
   "id": "652bea3c-93ef-4cea-9b49-c0da117fbbbb",
   "metadata": {},
   "outputs": [],
   "source": [
    "#FILL IN INFORMATION HERE\n",
    "from datetime import datetime\n",
    "from datetime import timedelta, date\n",
    "\n",
    "filepath=\"rawdata/\" #path to netcdf file with SSH\n",
    "\n",
    "tmax=30 #total number of days\n",
    "savepath=\"eddies/\" #path to save the eddies to\n",
    "imagedir='eddyimages/' #path to save the images to\n",
    "filepath1=\"rawdata2/\" #path to the preprocessed (for eddy detection) AVISO data\n",
    "filepath2=\"/home/mavida/dat1/miniconda3/eddytracking/testsonscottsdata/rawdata2/\" #path to Scott's preprocessed (for eddy detection) predictions)\n",
    "slice_=False\n",
    "longmin=360-62 #minimum longitude\n",
    "longmax=360-50 #maximum longitude\n",
    "latmin=25 #minimum latitude\n",
    "latmax=52 #maximum latitude\n",
    "def findfilename(path,t):\n",
    "    return path+str(t)+\".nc\"\n",
    "startdate=datetime(2021,11,15)\n"
   ]
  },
  {
   "cell_type": "code",
   "execution_count": 2,
   "id": "d7405d3f-54ce-4345-a20b-2ea72de565ba",
   "metadata": {},
   "outputs": [],
   "source": [
    "#Make sure py eddy tracker is installed; see https://py-eddy-tracker.readthedocs.io/en/stable/installation.html\n",
    "from matplotlib import pyplot as plt\n",
    "from numpy import arange\n",
    "import numpy as np\n",
    "\n",
    "from py_eddy_tracker import data\n",
    "from py_eddy_tracker.dataset.grid import RegularGridDataset\n",
    "from py_eddy_tracker.eddy_feature import Contours\n",
    "from datetime import timedelta, date\n",
    "\n",
    "from py_eddy_tracker.data import get_remote_demo_sample\n",
    "from py_eddy_tracker.featured_tracking.area_tracker import AreaTracker\n",
    "from py_eddy_tracker.gui import GUI\n",
    "from py_eddy_tracker.tracking import Correspondances\n",
    "\n",
    "import logging\n",
    "from matplotlib import pyplot as plt\n",
    "from netCDF4 import Dataset\n",
    "\n",
    "from py_eddy_tracker import start_logger\n",
    "from py_eddy_tracker.data import get_remote_demo_sample\n",
    "from py_eddy_tracker.featured_tracking.area_tracker import AreaTracker\n",
    "\n",
    "# In order to hide some warning\n",
    "import py_eddy_tracker.observations.observation\n",
    "from py_eddy_tracker.tracking import Correspondances\n",
    "\n",
    "py_eddy_tracker.observations.observation._display_check_warning = False\n",
    "\n",
    "from datetime import datetime\n",
    "\n",
    "from matplotlib import pyplot as plt\n",
    "from numpy import arange\n",
    "import numpy as np\n",
    "\n",
    "from py_eddy_tracker import data\n",
    "from py_eddy_tracker.dataset.grid import RegularGridDataset\n",
    "from py_eddy_tracker.eddy_feature import Contours\n",
    "from datetime import timedelta, date\n"
   ]
  },
  {
   "cell_type": "code",
   "execution_count": 3,
   "id": "d1df7f51-12a9-4181-b938-ecd43e024dd1",
   "metadata": {},
   "outputs": [],
   "source": [
    "#coordinate names - Fill in\n",
    "xname=\"longitude\" #name of x coordinate\n",
    "yname=\"latitude\" #name of y coordinate\n",
    "tname=\"time\"\n",
    "\n",
    "margin=30\n",
    "file_objects=[]\n",
    "date_=startdate"
   ]
  },
  {
   "cell_type": "code",
   "execution_count": null,
   "id": "082cde8e-d27b-484d-942c-40347818907b",
   "metadata": {},
   "outputs": [],
   "source": [
    "#This saves the eddy observations for the AVISO data and Scott's data so that we can track the eddies and conduct analyses\n",
    "\n",
    "for t in range(tmax):\n",
    "    for filepath,savepath in [[filepath1,\"AVISO\"],[filepath2,\"ML\"]]:    \n",
    "        filename=findfilename(filepath,t)\n",
    "        g =RegularGridDataset(filename,xname,yname,nan_masking=True)\n",
    "        g.add_uv(\"adt\") #calculates u and v based on sea surface height\n",
    "\n",
    "        a, c = g.eddy_identification(\"adt\", \"u\", \"v\", date_, 0.002, shape_error=55) #identifies the eddies\n",
    "        a.write_file(path=savepath, filename=savepath+str(t)+\"a.nc\", zarr_flag=False) #saves the anticyclonic eddies\n",
    "        c.write_file(path=savepath, filename=savepath+str(t)+\"c.nc\", zarr_flag=False) #saves the cyclonic eddies\n",
    "    "
   ]
  },
  {
   "cell_type": "code",
   "execution_count": null,
   "id": "9813d17f-45ac-44e8-8079-887c5953ab0a",
   "metadata": {},
   "outputs": [],
   "source": [
    "#This function finds the eddy observations for each day in the range and saves them as images which can then be turned into a video using ffmpeg\n",
    "from matplotlib.animation import FuncAnimation  #creating animations and videos.\n",
    "from IPython.display import Video, HTML\n",
    "import matplotlib as mpl\n",
    "def animation_func(i,filepath1,filepath2,savedir):\n",
    "    filename1=findfilename(filepath1,i)\n",
    "    filename2=findfilename(filepath2,i)\n",
    "    fig, axs = plt.subplot_mosaic([['BLANK', 'BLANK', 'BLANK','BLANK'],['ax1', 'ax1','ax2','ax2'],\n",
    "     ['ax1', 'ax1','ax2','ax2'],['colorbar', 'colorbar','colorbar','colorbar']],empty_sentinel=\"BLANK\",figsize=(10,10))\n",
    "    date_= startdate+timedelta(days=i)\n",
    "    cmap = mpl.cm.viridis\n",
    "    norm = mpl.colors.Normalize(vmin=-1, vmax=1)\n",
    "    fig.colorbar(mpl.cm.ScalarMappable(norm=norm, cmap=cmap),\n",
    "             cax=axs['colorbar'], orientation='horizontal', label='ADT')\n",
    "    for filename,ax,add,name in [[filename1,axs['ax1'],360,\"AVISO data\"],[filename2,axs['ax2'],0, \"ML Interpolated Data\"]]:\n",
    "        print(filename,ax)\n",
    "        loc=ax.get_position()\n",
    "        #ax.set_position([loc.x0, loc.y0, loc.width, loc.height*0.75])\n",
    "        \n",
    "        \n",
    "        ax.title.set_text(name)\n",
    "        g =RegularGridDataset(filename,xname,yname,nan_masking=True)\n",
    "        \n",
    "        print(g)\n",
    "        g.add_uv(\"adt\") #calculates u and v based on sea surface height\n",
    "        \n",
    "        g.bessel_high_filter(\"adt\", 700) #highlights the mesoscale\n",
    "        \n",
    "        a, c = g.eddy_identification(\"adt\", \"u\", \"v\", date_, 0.002, shape_error=70) #identifies the eddies\n",
    "        im = ax.pcolormesh(g.x_bounds+add, g.y_bounds, g.grid(\"adt\").T,cmap=cmap,norm=norm)\n",
    "        \n",
    "        a.display(\n",
    "            ax, color=\"r\", linewidth=0.75, label=\"Anticyclonic ({nb_obs} eddies)\", ref=-10\n",
    "        )\n",
    "        c.display(ax, color=\"b\", linewidth=0.75, label=\"Cyclonic ({nb_obs} eddies)\", ref=-10)\n",
    "        ax.legend(bbox_to_anchor=(0., 1.1, 1., .102), loc='lower left',\n",
    "                       mode=\"expand\", borderaxespad=0.)\n",
    "\n",
    "    \n",
    "    plt.savefig(savedir+(str(i).zfill(2))+'.jpg')\n",
    "    \n",
    "for t in range(tmax):\n",
    "    animation_func(t,filepath1,filepath2,imagedir)"
   ]
  },
  {
   "cell_type": "code",
   "execution_count": null,
   "id": "631002c0-d5fe-400a-b2c4-f1c919d901ae",
   "metadata": {},
   "outputs": [],
   "source": []
  }
 ],
 "metadata": {
  "kernelspec": {
   "display_name": "Python 3",
   "language": "python",
   "name": "python3"
  },
  "language_info": {
   "codemirror_mode": {
    "name": "ipython",
    "version": 3
   },
   "file_extension": ".py",
   "mimetype": "text/x-python",
   "name": "python",
   "nbconvert_exporter": "python",
   "pygments_lexer": "ipython3",
   "version": "3.7.6"
  },
  "widgets": {
   "application/vnd.jupyter.widget-state+json": {
    "state": {},
    "version_major": 2,
    "version_minor": 0
   }
  }
 },
 "nbformat": 4,
 "nbformat_minor": 5
}
